{
 "cells": [
  {
   "cell_type": "code",
   "execution_count": 2,
   "id": "9f8c113c",
   "metadata": {},
   "outputs": [],
   "source": [
    "import pandas as pd\n",
    "\n",
    "\n",
    "def monta_df(ano_i, ano_f):\n",
    "\n",
    "    df_enem_linha = []\n",
    "\n",
    "    for i in range(ano_i, ano_f + 1):\n",
    "\n",
    "        df_enem = pd.read_csv(f'microdados_enem_{i}/DADOS/MICRODADOS_ENEM_{i}.csv', sep=';',  encoding='latin-1', \\\n",
    "                              usecols=['NU_INSCRICAO', 'NU_ANO', 'NU_NOTA_CN', 'NU_NOTA_CH', 'NU_NOTA_LC', \n",
    "                                     'NU_NOTA_MT', 'NU_NOTA_REDACAO'])\n",
    "\n",
    "        df_enem['SOMA_NOTAS'] = df_enem['NU_NOTA_CN'] + df_enem['NU_NOTA_CH'] + df_enem['NU_NOTA_LC'] \\\n",
    "                                + df_enem['NU_NOTA_MT'] + df_enem['NU_NOTA_REDACAO']\n",
    "\n",
    "        df_enem_linha.append([df_enem.iloc[1,1], df_enem.shape[0], df_enem['SOMA_NOTAS'].mean()])\n",
    "\n",
    "    return df_enem_linha"
   ]
  },
  {
   "cell_type": "code",
   "execution_count": 3,
   "id": "85589e9d",
   "metadata": {},
   "outputs": [],
   "source": [
    "df_enem_linha = monta_df(2009, 2021)"
   ]
  },
  {
   "cell_type": "code",
   "execution_count": 4,
   "id": "c6b08304",
   "metadata": {},
   "outputs": [],
   "source": [
    "df_enem_linha = pd.DataFrame(df_enem_linha)"
   ]
  },
  {
   "cell_type": "code",
   "execution_count": 5,
   "id": "ad81dda8",
   "metadata": {},
   "outputs": [],
   "source": [
    "df_enem_linha = df_enem_linha.rename(columns={0: 'ANO', 1: 'QTDE_INSC', 2: 'MEDIA_NOTAS'})"
   ]
  },
  {
   "cell_type": "code",
   "execution_count": 7,
   "id": "60310824",
   "metadata": {},
   "outputs": [],
   "source": [
    "df_enem_linha.to_csv('./df_enem_linha.csv', index=False, encoding='utf-8', decimal=',')"
   ]
  },
  {
   "cell_type": "code",
   "execution_count": null,
   "id": "d4336386",
   "metadata": {},
   "outputs": [],
   "source": []
  }
 ],
 "metadata": {
  "kernelspec": {
   "display_name": "Python 3",
   "language": "python",
   "name": "python3"
  },
  "language_info": {
   "codemirror_mode": {
    "name": "ipython",
    "version": 3
   },
   "file_extension": ".py",
   "mimetype": "text/x-python",
   "name": "python",
   "nbconvert_exporter": "python",
   "pygments_lexer": "ipython3",
   "version": "3.9.12"
  }
 },
 "nbformat": 4,
 "nbformat_minor": 5
}
